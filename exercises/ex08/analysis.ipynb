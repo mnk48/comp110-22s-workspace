{
 "cells": [
  {
   "cell_type": "markdown",
   "metadata": {},
   "source": [
    "# Analysis for Continuous Improvement\n",
    "\n",
    "Author Name: Mia Keller\n",
    "\n",
    "9-digit PID: 730389267\n",
    "\n",
    "Continuous Improvement embraces a belief there is _always room to make things better_. It is a mindset and process we value and practice in this course. In this assignment, you are able to practice continuous improvement and contribute to the design ideas of the course.\n",
    "\n",
    "## Brainstorming Ideas\n",
    "\n",
    "Reflect on your personal experiences and observations in COMP110 and **brainstorm modifications to the course that _create value_ beyond its current design**. When brainstorming, try not to be critical of the ideas you come up with regarding scale, stakeholders impacted, or for any other reasons. In the markdown cell below, brainstorm 3 to 5 ideas you think would create value for you.\n",
    "\n",
    "Each brainstormed idea should state a. the suggested change or addition, b. what the expected value created, and c. which specific stakeholders would benefit.  If helpful, expand on the following template \"The course should (state idea here) because it will (state value created here) for (insert stakeholders here).\"\n",
    "\n",
    "Example A: \"The course should use only examples from psychology experiments because it will be more relevant for students who are psychology majors.\"\n",
    "\n",
    "Example B: \"The course should not have post-lesson questions because they are not useful for most students in the class.\""
   ]
  },
  {
   "cell_type": "markdown",
   "metadata": {},
   "source": [
    "### Part 1. Creative Ideation\n",
    "\n",
    "1. COMP110 should include more review material for quizzes because students consolidate class material through them.\n",
    "2. COMP110 should offer optional beginner review material because students who have never coded before are finding this class difficult.\n",
    "3. COMP110 should ease the pace of the course because the majority of students are not computer science majors and need this class for another reason and need to focus on their other endeavors.\n",
    "4. COMP110 should require photo proof of students' notes because students who keep their own notes are more likely to do better in the course.\n",
    "5. COMP110 should increase the amount of time per coding assignment because students already spend a lot of time on their computer doing work, damaging their mental health."
   ]
  },
  {
   "cell_type": "markdown",
   "metadata": {},
   "source": [
    "## Connecting with Available Data\n",
    "\n",
    "The data you have available for this analysis is limited to the anonymized course survey you and your peers filled out a few weeks ago. The data is found in the `survey.csv` file in this exercise directory. Each row represents an individual survey response. Each column has a description which can be found on the project write-up here: <https://22s.comp110.com/exercises/ex08.html>\n",
    "\n",
    "Review the list of available data and identify which one of your ideas _does not_, or is _least likely to_, have relevant data to support the analysis of your idea to create value. In the box below, identify which of your ideas lacks data and suggest how we might be able to collect this data in the future. One aspect of _continuous improvement_ is trying to avoid \"tunnel vision\" where possible improvements are not considered because there is no data available to analyze it. Identifying new data sources can unlock improvements!"
   ]
  },
  {
   "cell_type": "markdown",
   "metadata": {},
   "source": [
    "### Part 2. Identifying Missing Data\n",
    "\n",
    "1. Idea without sufficient data to analyze: The idea of easing the pace of the course for those who are not solely interested in computer science lacks data because although we may know whether students find the course difficult, we have no data on whether or not they enjoy spending time working on projects, or how long they work on each project for. \n",
    "\n",
    "2. Suggestion for how to collect data to support this idea in the future: A question could be asked to discover how much time students are spending working on assignments and whether or not this class is negatively affecting their performance in others. "
   ]
  },
  {
   "cell_type": "markdown",
   "metadata": {},
   "source": [
    "## Choosing an Idea to Analyze\n",
    "\n",
    "Consider those of your ideas which _do_ seem likely to have relevant data to analyze. If none of your ideas do, spend a few minutes and brainstorm another idea or two with the added connection of data available on hand and add those ideas to your brainstormed ideas list.\n",
    "\n",
    "Select the one idea which you believe is _most valuable_ to analyze relative to the others and has data to support the analysis of. In the markdown cell for Part 3 below, identify the idea you are exploring and articulate why you believe it is most valuable (e.g. widest impact, biggest opportunity for improvement, simplest change for significant improvement, and so on)."
   ]
  },
  {
   "cell_type": "markdown",
   "metadata": {},
   "source": [
    "### Part 3. Choosing Your Analysis\n",
    "\n",
    "1. Idea to analyze with available data: COMP110 should offer beginner review material because students who have never coded before are finding this class difficult.\n",
    "\n",
    "2. This idea is more valuable than the others brainstormed because: I believe this idea will have the largest impact on students' performance in this class. It is of value knowing the relationship between previous coding experience and students' success in this course and their view of the course. Offering supplemental and optional videos for students who need more review and practice, especially nailing down concepts in the beginning, will greatly boost their knowledge of computer science and help them master more difficult concepts as the course progresses.\n"
   ]
  },
  {
   "cell_type": "markdown",
   "metadata": {},
   "source": [
    "## Your Analysis\n",
    "\n",
    "Before you begin analysis, a reminder that we do not expect the data to support everyone's ideas and you can complete this exercise for full credit even if the data does not clearly support your suggestion or even completely refutes it. What we are looking for is a logical attempt to explore the data using the techniques you have learned up until now in a way that _either_ supports, refutes, or does not have a clear result and then to reflect on your findings after the analysis.\n",
    "\n",
    "Using the utility functions you created for the previous exercise, you will continue with your analysis in the following part. Before you begin, refer to the rubric on the technical expectations of this section in the exercise write-up.\n",
    "\n",
    "In this section, you are expected to interleave code and markdown cells such that for each step of your analysis you are starting with an English description of what you are planning to do next in a markdown cell, followed by a Python cell that performs that step of the analysis."
   ]
  },
  {
   "cell_type": "markdown",
   "metadata": {},
   "source": [
    "### Part 4. Analysis\n",
    "\n",
    "We begin by changing some settings in the notebook to automatically reload changes to imported files."
   ]
  },
  {
   "cell_type": "code",
   "execution_count": 2,
   "metadata": {},
   "outputs": [],
   "source": [
    "%reload_ext autoreload\n",
    "%autoreload 2"
   ]
  },
  {
   "cell_type": "markdown",
   "metadata": {},
   "source": [
    "We continue by importing the helper functions from `data_utils`."
   ]
  },
  {
   "cell_type": "code",
   "execution_count": 3,
   "metadata": {},
   "outputs": [],
   "source": [
    "from data_utils import read_csv_rows, column_values, columnar, head, select, count"
   ]
  },
  {
   "cell_type": "markdown",
   "metadata": {},
   "source": [
    "Next, we import the data from the surveys. "
   ]
  },
  {
   "cell_type": "code",
   "execution_count": 4,
   "metadata": {},
   "outputs": [],
   "source": [
    "SURVEY_DATA_CSV_FILE_PATH: str = \"../../data/survey.csv\""
   ]
  },
  {
   "cell_type": "markdown",
   "metadata": {},
   "source": [
    "To perform our analysis, we will be looking at students who are not computer science majors (`comp_major = \"No\"`). We will also assess whether they have prior experience to coding (`prior_exp`).\n",
    "\n",
    "To gauge their perception of the course, we will look at how they find the pace and difficulty of the class, as well as gauge their understanding of the material (`pace`, `difficulty`, `understanding`.)"
   ]
  },
  {
   "cell_type": "markdown",
   "metadata": {},
   "source": [
    "### Collecting Non-Computer Science Majors' Data\n",
    "We first need to obtain these values from students who are not computer science majors. To do so, we will first convert our csv file to a row-oriented table.  "
   ]
  },
  {
   "cell_type": "code",
   "execution_count": 5,
   "metadata": {},
   "outputs": [],
   "source": [
    "data_rows: list[dict[str, str]] = read_csv_rows(SURVEY_DATA_CSV_FILE_PATH)"
   ]
  },
  {
   "cell_type": "markdown",
   "metadata": {},
   "source": [
    "Then, we will need to narrow down our data to those participants who are not computer science majors or minors. We do this by testing if the key `\"comp_major\"` is equal to `\"No\"`. If this is true, we append this row to a new, final table of data, containing the information of only those who are not computer science majors. "
   ]
  },
  {
   "cell_type": "code",
   "execution_count": 6,
   "metadata": {},
   "outputs": [],
   "source": [
    "final_data: list[dict[str, str]] = []\n",
    "\n",
    "for subject in data_rows:\n",
    "    if subject[\"comp_major\"] == \"No\":\n",
    "        final_data.append(subject)"
   ]
  },
  {
   "cell_type": "markdown",
   "metadata": {},
   "source": [
    "To ensure that this process has worked, lets tabulate our data into a table that is easier to read. We will use the `tabulate` function imported from tabulate. First, we have to transform our row-oriented table into a column-oriented table, however. We will import the `columnar` function from `data_utils`.\n",
    "\n",
    "Then, to select the columns we are focusing on (`\"row\"`, `\"comp_major\"`, `\"prior_exp\"`, `\"pace\"`, `\"difficulty\"`, `\"understanding\"`), we will use the `select` function imported from `data_utils` with these headings as arguments.\n",
    "\n",
    "We can then use the `tabulate` and `head` functions to check if the first 5 values have correct `comp_major` values of `\"No\"`. "
   ]
  },
  {
   "cell_type": "code",
   "execution_count": 7,
   "metadata": {},
   "outputs": [
    {
     "data": {
      "text/html": [
       "<table>\n",
       "<thead>\n",
       "<tr><th style=\"text-align: right;\">  row</th><th>comp_major  </th><th>prior_exp                   </th><th style=\"text-align: right;\">  pace</th><th style=\"text-align: right;\">  difficulty</th><th style=\"text-align: right;\">  understanding</th></tr>\n",
       "</thead>\n",
       "<tbody>\n",
       "<tr><td style=\"text-align: right;\">    0</td><td>No          </td><td>7-12 months                 </td><td style=\"text-align: right;\">     1</td><td style=\"text-align: right;\">           1</td><td style=\"text-align: right;\">              7</td></tr>\n",
       "<tr><td style=\"text-align: right;\">    1</td><td>No          </td><td>None to less than one month!</td><td style=\"text-align: right;\">     6</td><td style=\"text-align: right;\">           6</td><td style=\"text-align: right;\">              3</td></tr>\n",
       "<tr><td style=\"text-align: right;\">    9</td><td>No          </td><td>None to less than one month!</td><td style=\"text-align: right;\">     7</td><td style=\"text-align: right;\">           4</td><td style=\"text-align: right;\">              6</td></tr>\n",
       "<tr><td style=\"text-align: right;\">   12</td><td>No          </td><td>None to less than one month!</td><td style=\"text-align: right;\">     5</td><td style=\"text-align: right;\">           5</td><td style=\"text-align: right;\">              4</td></tr>\n",
       "<tr><td style=\"text-align: right;\">   13</td><td>No          </td><td>2-6 months                  </td><td style=\"text-align: right;\">     4</td><td style=\"text-align: right;\">           3</td><td style=\"text-align: right;\">              7</td></tr>\n",
       "</tbody>\n",
       "</table>"
      ],
      "text/plain": [
       "'<table>\\n<thead>\\n<tr><th style=\"text-align: right;\">  row</th><th>comp_major  </th><th>prior_exp                   </th><th style=\"text-align: right;\">  pace</th><th style=\"text-align: right;\">  difficulty</th><th style=\"text-align: right;\">  understanding</th></tr>\\n</thead>\\n<tbody>\\n<tr><td style=\"text-align: right;\">    0</td><td>No          </td><td>7-12 months                 </td><td style=\"text-align: right;\">     1</td><td style=\"text-align: right;\">           1</td><td style=\"text-align: right;\">              7</td></tr>\\n<tr><td style=\"text-align: right;\">    1</td><td>No          </td><td>None to less than one month!</td><td style=\"text-align: right;\">     6</td><td style=\"text-align: right;\">           6</td><td style=\"text-align: right;\">              3</td></tr>\\n<tr><td style=\"text-align: right;\">    9</td><td>No          </td><td>None to less than one month!</td><td style=\"text-align: right;\">     7</td><td style=\"text-align: right;\">           4</td><td style=\"text-align: right;\">              6</td></tr>\\n<tr><td style=\"text-align: right;\">   12</td><td>No          </td><td>None to less than one month!</td><td style=\"text-align: right;\">     5</td><td style=\"text-align: right;\">           5</td><td style=\"text-align: right;\">              4</td></tr>\\n<tr><td style=\"text-align: right;\">   13</td><td>No          </td><td>2-6 months                  </td><td style=\"text-align: right;\">     4</td><td style=\"text-align: right;\">           3</td><td style=\"text-align: right;\">              7</td></tr>\\n</tbody>\\n</table>'"
      ]
     },
     "execution_count": 7,
     "metadata": {},
     "output_type": "execute_result"
    }
   ],
   "source": [
    "from tabulate import tabulate\n",
    "\n",
    "data_cols: dict[str, list[str]] = columnar(final_data)\n",
    "\n",
    "selected_data: dict[str, list[str]] = select(data_cols, [\"row\", \"comp_major\", \"prior_exp\", \"pace\", \"difficulty\", \"understanding\"])\n",
    "\n",
    "tabulate(head(selected_data, 5), selected_data.keys(), \"html\")"
   ]
  },
  {
   "cell_type": "markdown",
   "metadata": {},
   "source": [
    "We are now working with only the data from participants who are not computer science majors. However, some of these students have prior experience in coding through taking classes or self-directed teaching. \n",
    "\n",
    "While there a several variables in the data to account for classes taken, the `prior_exp` data column provides a good overall idea of how much experience a person has. We can further select for those who have none to less than one month of experience."
   ]
  },
  {
   "cell_type": "code",
   "execution_count": 8,
   "metadata": {},
   "outputs": [],
   "source": [
    "no_experience: list[dict[str, str]] = []\n",
    "\n",
    "for subject in final_data:\n",
    "    if subject[\"prior_exp\"] == \"None to less than one month!\":\n",
    "        no_experience.append(subject)"
   ]
  },
  {
   "cell_type": "markdown",
   "metadata": {},
   "source": [
    "To ensure that our process has worked, we can `tabulate` the first five rows of the new dataset."
   ]
  },
  {
   "cell_type": "code",
   "execution_count": 9,
   "metadata": {},
   "outputs": [
    {
     "data": {
      "text/html": [
       "<table>\n",
       "<thead>\n",
       "<tr><th style=\"text-align: right;\">  row</th><th>comp_major  </th><th>prior_exp                   </th><th style=\"text-align: right;\">  pace</th><th style=\"text-align: right;\">  difficulty</th><th style=\"text-align: right;\">  understanding</th></tr>\n",
       "</thead>\n",
       "<tbody>\n",
       "<tr><td style=\"text-align: right;\">    1</td><td>No          </td><td>None to less than one month!</td><td style=\"text-align: right;\">     6</td><td style=\"text-align: right;\">           6</td><td style=\"text-align: right;\">              3</td></tr>\n",
       "<tr><td style=\"text-align: right;\">    9</td><td>No          </td><td>None to less than one month!</td><td style=\"text-align: right;\">     7</td><td style=\"text-align: right;\">           4</td><td style=\"text-align: right;\">              6</td></tr>\n",
       "<tr><td style=\"text-align: right;\">   12</td><td>No          </td><td>None to less than one month!</td><td style=\"text-align: right;\">     5</td><td style=\"text-align: right;\">           5</td><td style=\"text-align: right;\">              4</td></tr>\n",
       "<tr><td style=\"text-align: right;\">   14</td><td>No          </td><td>None to less than one month!</td><td style=\"text-align: right;\">     4</td><td style=\"text-align: right;\">           4</td><td style=\"text-align: right;\">              5</td></tr>\n",
       "<tr><td style=\"text-align: right;\">   16</td><td>No          </td><td>None to less than one month!</td><td style=\"text-align: right;\">     6</td><td style=\"text-align: right;\">           7</td><td style=\"text-align: right;\">              2</td></tr>\n",
       "</tbody>\n",
       "</table>"
      ],
      "text/plain": [
       "'<table>\\n<thead>\\n<tr><th style=\"text-align: right;\">  row</th><th>comp_major  </th><th>prior_exp                   </th><th style=\"text-align: right;\">  pace</th><th style=\"text-align: right;\">  difficulty</th><th style=\"text-align: right;\">  understanding</th></tr>\\n</thead>\\n<tbody>\\n<tr><td style=\"text-align: right;\">    1</td><td>No          </td><td>None to less than one month!</td><td style=\"text-align: right;\">     6</td><td style=\"text-align: right;\">           6</td><td style=\"text-align: right;\">              3</td></tr>\\n<tr><td style=\"text-align: right;\">    9</td><td>No          </td><td>None to less than one month!</td><td style=\"text-align: right;\">     7</td><td style=\"text-align: right;\">           4</td><td style=\"text-align: right;\">              6</td></tr>\\n<tr><td style=\"text-align: right;\">   12</td><td>No          </td><td>None to less than one month!</td><td style=\"text-align: right;\">     5</td><td style=\"text-align: right;\">           5</td><td style=\"text-align: right;\">              4</td></tr>\\n<tr><td style=\"text-align: right;\">   14</td><td>No          </td><td>None to less than one month!</td><td style=\"text-align: right;\">     4</td><td style=\"text-align: right;\">           4</td><td style=\"text-align: right;\">              5</td></tr>\\n<tr><td style=\"text-align: right;\">   16</td><td>No          </td><td>None to less than one month!</td><td style=\"text-align: right;\">     6</td><td style=\"text-align: right;\">           7</td><td style=\"text-align: right;\">              2</td></tr>\\n</tbody>\\n</table>'"
      ]
     },
     "execution_count": 9,
     "metadata": {},
     "output_type": "execute_result"
    }
   ],
   "source": [
    "no_experience_cols: dict[str, list[str]] = columnar(no_experience)\n",
    "\n",
    "no_experience_selected: dict[str, list[str]] = select(no_experience_cols, [\"row\", \"comp_major\", \"prior_exp\", \"pace\", \"difficulty\", \"understanding\"])\n",
    "\n",
    "tabulate(head(no_experience_selected, 5), no_experience_selected.keys(), \"html\")"
   ]
  },
  {
   "cell_type": "markdown",
   "metadata": {},
   "source": [
    "### Assessing Overall Course Difficulty\n",
    "Now that we are focusing on non-computer science majors with little to no previous coding experience, we can begin analysis on how they are viewing the course. `pace`, `difficulty`, and `understanding` all utilize likert scales to assess these concepts.\n",
    "\n",
    "`pace` has a scale of 1-7, with 1 meaning the class is moving very slowly, and 7 meaning the class is moving very quickly. \n",
    "\n",
    "`difficulty` has a scale of 1-7, with 1 meaning the class is very easy, and 7 meaning the class is very difficult.\n",
    "\n",
    "`understanding` has a scale of 1-7, with 1 meaning students are typically lost in the class, and 7 meaning that students typically understand everything.\n",
    "\n",
    "Using the `count` function, we can assess the frequencies of these values to determine how students who have little to no prior coding experience are finding the class."
   ]
  },
  {
   "cell_type": "code",
   "execution_count": 10,
   "metadata": {},
   "outputs": [
    {
     "name": "stdout",
     "output_type": "stream",
     "text": [
      "pace_counts: {'6': 80, '7': 39, '5': 83, '4': 47, '3': 4, '2': 1}\n",
      "difficulty_counts: {'6': 57, '4': 51, '5': 73, '7': 45, '3': 22, '2': 6}\n",
      "understanding_counts: {'3': 45, '6': 42, '4': 45, '5': 80, '2': 22, '7': 8, '1': 12}\n"
     ]
    }
   ],
   "source": [
    "pace_counts: dict[str, int] = count(no_experience_selected[\"pace\"])\n",
    "print(f\"pace_counts: {pace_counts}\")\n",
    "\n",
    "difficulty_counts: dict[str, int] = count(no_experience_selected[\"difficulty\"])\n",
    "print(f\"difficulty_counts: {difficulty_counts}\")\n",
    "\n",
    "understanding_counts: dict[str, int] = count(no_experience_selected[\"understanding\"])\n",
    "print(f\"understanding_counts: {understanding_counts}\")"
   ]
  },
  {
   "cell_type": "markdown",
   "metadata": {},
   "source": [
    "We can chart these in a graph to visualize the spread of the data better. We'll first plot the `pace` data."
   ]
  },
  {
   "cell_type": "code",
   "execution_count": 11,
   "metadata": {},
   "outputs": [
    {
     "data": {
      "image/png": "[encoded data removed]",
      "text/plain": [
       "<Figure size 432x288 with 1 Axes>"
      ]
     },
     "metadata": {
      "needs_background": "light"
     },
     "output_type": "display_data"
    }
   ],
   "source": [
    "import matplotlib.pyplot as plt\n",
    "import numpy as np \n",
    "import matplotlib.pyplot as plt \n",
    "\n",
    "labels = ['2', '3', '4', '5', '6', '7']\n",
    "y_pos = [0, 1, 2, 3, 4, 5]\n",
    "counts = [1, 4, 47, 83, 80, 39]\n",
    "\n",
    "plt.bar(y_pos, counts, align='center', alpha=0.5)\n",
    "plt.xticks(y_pos, labels)\n",
    "plt.ylabel('Counts')\n",
    "plt.title(\"Non-Comp Sci Students With No Prior Experience's Evaluations of COMP110 Pace\")\n",
    "\n",
    "plt.show()"
   ]
  },
  {
   "cell_type": "markdown",
   "metadata": {},
   "source": [
    "We can then plot the `difficulty` data."
   ]
  },
  {
   "cell_type": "code",
   "execution_count": 12,
   "metadata": {},
   "outputs": [
    {
     "data": {
      "image/png": "[encoded data removed]",
      "text/plain": [
       "<Figure size 432x288 with 1 Axes>"
      ]
     },
     "metadata": {
      "needs_background": "light"
     },
     "output_type": "display_data"
    }
   ],
   "source": [
    "# Making the difficulty plot\n",
    "labels = ['2', '3', '4', '5', '6', '7']\n",
    "y_pos = [0, 1, 2, 3, 4, 5]\n",
    "counts = [6, 22, 51, 73, 57, 45]\n",
    "\n",
    "plt.bar(y_pos, counts, align='center', alpha=0.5)\n",
    "plt.xticks(y_pos, labels)\n",
    "plt.ylabel('Counts')\n",
    "plt.title(\"Non-Comp Sci Students With No Prior Experience's Evaluations of COMP110 Difficulty\")\n",
    "\n",
    "plt.show()"
   ]
  },
  {
   "cell_type": "markdown",
   "metadata": {},
   "source": [
    "Finally, we can plot the `understanding` data."
   ]
  },
  {
   "cell_type": "code",
   "execution_count": 13,
   "metadata": {},
   "outputs": [
    {
     "data": {
      "image/png": "[encoded data removed]",
      "text/plain": [
       "<Figure size 432x288 with 1 Axes>"
      ]
     },
     "metadata": {
      "needs_background": "light"
     },
     "output_type": "display_data"
    }
   ],
   "source": [
    "# Making the understanding plot\n",
    "labels = ['1', '2', '3', '4', '5', '6', '7']\n",
    "y_pos = [0, 1, 2, 3, 4, 5, 6]\n",
    "counts = [12, 22, 45, 45, 80, 42, 8]\n",
    "\n",
    "plt.bar(y_pos, counts, align='center', alpha=0.5)\n",
    "plt.xticks(y_pos, labels)\n",
    "plt.ylabel('Counts')\n",
    "plt.title(\"Non-Comp Sci Students With No Prior Experience's Understandings of COMP110 Material\")\n",
    "\n",
    "plt.show()"
   ]
  },
  {
   "cell_type": "markdown",
   "metadata": {},
   "source": [
    "It appears as if non-computer science majors with little to no coding experience are finding the pace of the class to be fast, the material generally difficult, and their understanding of the material fairly okay. \n",
    "\n",
    "We can compare these results to those non-computer science majors with some experience coding, in particular, those with greater than 1 month of coding experience. \n",
    "\n",
    "We will follow the same steps as above to generate a dataset of non-computer science majors with some coding experience, using `tabulate` to check our work."
   ]
  },
  {
   "cell_type": "code",
   "execution_count": 14,
   "metadata": {},
   "outputs": [
    {
     "data": {
      "text/html": [
       "<table>\n",
       "<thead>\n",
       "<tr><th style=\"text-align: right;\">  row</th><th>comp_major  </th><th>prior_exp  </th><th style=\"text-align: right;\">  pace</th><th style=\"text-align: right;\">  difficulty</th><th style=\"text-align: right;\">  understanding</th></tr>\n",
       "</thead>\n",
       "<tbody>\n",
       "<tr><td style=\"text-align: right;\">    0</td><td>No          </td><td>7-12 months</td><td style=\"text-align: right;\">     1</td><td style=\"text-align: right;\">           1</td><td style=\"text-align: right;\">              7</td></tr>\n",
       "<tr><td style=\"text-align: right;\">   13</td><td>No          </td><td>2-6 months </td><td style=\"text-align: right;\">     4</td><td style=\"text-align: right;\">           3</td><td style=\"text-align: right;\">              7</td></tr>\n",
       "<tr><td style=\"text-align: right;\">   15</td><td>No          </td><td>2-6 months </td><td style=\"text-align: right;\">     5</td><td style=\"text-align: right;\">           7</td><td style=\"text-align: right;\">              3</td></tr>\n",
       "<tr><td style=\"text-align: right;\">   17</td><td>No          </td><td>1-2 years  </td><td style=\"text-align: right;\">     4</td><td style=\"text-align: right;\">           4</td><td style=\"text-align: right;\">              6</td></tr>\n",
       "<tr><td style=\"text-align: right;\">   22</td><td>No          </td><td>2-6 months </td><td style=\"text-align: right;\">     5</td><td style=\"text-align: right;\">           5</td><td style=\"text-align: right;\">              5</td></tr>\n",
       "</tbody>\n",
       "</table>"
      ],
      "text/plain": [
       "'<table>\\n<thead>\\n<tr><th style=\"text-align: right;\">  row</th><th>comp_major  </th><th>prior_exp  </th><th style=\"text-align: right;\">  pace</th><th style=\"text-align: right;\">  difficulty</th><th style=\"text-align: right;\">  understanding</th></tr>\\n</thead>\\n<tbody>\\n<tr><td style=\"text-align: right;\">    0</td><td>No          </td><td>7-12 months</td><td style=\"text-align: right;\">     1</td><td style=\"text-align: right;\">           1</td><td style=\"text-align: right;\">              7</td></tr>\\n<tr><td style=\"text-align: right;\">   13</td><td>No          </td><td>2-6 months </td><td style=\"text-align: right;\">     4</td><td style=\"text-align: right;\">           3</td><td style=\"text-align: right;\">              7</td></tr>\\n<tr><td style=\"text-align: right;\">   15</td><td>No          </td><td>2-6 months </td><td style=\"text-align: right;\">     5</td><td style=\"text-align: right;\">           7</td><td style=\"text-align: right;\">              3</td></tr>\\n<tr><td style=\"text-align: right;\">   17</td><td>No          </td><td>1-2 years  </td><td style=\"text-align: right;\">     4</td><td style=\"text-align: right;\">           4</td><td style=\"text-align: right;\">              6</td></tr>\\n<tr><td style=\"text-align: right;\">   22</td><td>No          </td><td>2-6 months </td><td style=\"text-align: right;\">     5</td><td style=\"text-align: right;\">           5</td><td style=\"text-align: right;\">              5</td></tr>\\n</tbody>\\n</table>'"
      ]
     },
     "execution_count": 14,
     "metadata": {},
     "output_type": "execute_result"
    }
   ],
   "source": [
    "some_experience: list[dict[str, str]] = []\n",
    "\n",
    "for subject in final_data:\n",
    "    if subject[\"prior_exp\"] != \"None to less than one month!\":\n",
    "        some_experience.append(subject)\n",
    "\n",
    "some_experience_cols: dict[str, list[str]] = columnar(some_experience)\n",
    "\n",
    "some_experience_selected: dict[str, list[str]] = select(some_experience_cols, [\"row\", \"comp_major\", \"prior_exp\", \"pace\", \"difficulty\", \"understanding\"])\n",
    "\n",
    "tabulate(head(some_experience_selected, 5), some_experience_selected.keys(), \"html\")"
   ]
  },
  {
   "cell_type": "markdown",
   "metadata": {},
   "source": [
    "We can then perform the same analyses to determine how these student view the course in terms of pace, difficulty, and understanding. "
   ]
  },
  {
   "cell_type": "code",
   "execution_count": 15,
   "metadata": {},
   "outputs": [
    {
     "name": "stdout",
     "output_type": "stream",
     "text": [
      "pace_counts: {'1': 1, '4': 21, '5': 38, '6': 13, '7': 3, '3': 5}\n",
      "difficulty_counts: {'1': 2, '3': 13, '7': 3, '4': 32, '5': 24, '6': 3, '2': 4}\n",
      "understanding_counts: {'7': 13, '3': 8, '6': 27, '5': 21, '4': 11, '1': 1}\n"
     ]
    }
   ],
   "source": [
    "some_pace_counts: dict[str, int] = count(some_experience_selected[\"pace\"])\n",
    "print(f\"pace_counts: {some_pace_counts}\")\n",
    "\n",
    "some_difficulty_counts: dict[str, int] = count(some_experience_selected[\"difficulty\"])\n",
    "print(f\"difficulty_counts: {some_difficulty_counts}\")\n",
    "\n",
    "some_understanding_counts: dict[str, int] = count(some_experience_selected[\"understanding\"])\n",
    "print(f\"understanding_counts: {some_understanding_counts}\")"
   ]
  },
  {
   "cell_type": "markdown",
   "metadata": {},
   "source": [
    "We can then plot these graphs as well, starting with `pace`."
   ]
  },
  {
   "cell_type": "code",
   "execution_count": 25,
   "metadata": {},
   "outputs": [
    {
     "data": {
      "image/png": "[encoded data removed]",
      "text/plain": [
       "<Figure size 432x288 with 1 Axes>"
      ]
     },
     "metadata": {
      "needs_background": "light"
     },
     "output_type": "display_data"
    }
   ],
   "source": [
    "labels = ['1', '2', '3', '4', '5', '6', '7']\n",
    "y_pos = [0, 1, 2, 3, 4, 5, 6]\n",
    "counts = [1, 0, 5, 21, 38, 13, 3]\n",
    "\n",
    "plt.bar(y_pos, counts, align='center', alpha=0.5)\n",
    "plt.xticks(y_pos, labels)\n",
    "plt.ylabel('Counts')\n",
    "plt.title(\"Non-Comp Sci Students Who Have Previous Coding Experience's Evaluations of COMP110 Pace\")\n",
    "\n",
    "plt.show()"
   ]
  },
  {
   "cell_type": "markdown",
   "metadata": {},
   "source": [
    "Next, `difficulty`."
   ]
  },
  {
   "cell_type": "code",
   "execution_count": 24,
   "metadata": {},
   "outputs": [
    {
     "data": {
      "image/png": "[encoded data removed]",
      "text/plain": [
       "<Figure size 432x288 with 1 Axes>"
      ]
     },
     "metadata": {
      "needs_background": "light"
     },
     "output_type": "display_data"
    }
   ],
   "source": [
    "labels = ['1', '2', '3', '4', '5', '6', '7']\n",
    "y_pos = [0, 1, 2, 3, 4, 5, 6]\n",
    "counts = [2, 4, 13, 32, 24, 3, 3]\n",
    "\n",
    "plt.bar(y_pos, counts, align='center', alpha=0.5)\n",
    "plt.xticks(y_pos, labels)\n",
    "plt.ylabel('Counts')\n",
    "plt.title(\"Non-Comp Sci Students Who Have Previous Coding Experience's Evaluations of COMP110 Difficulty\")\n",
    "\n",
    "plt.show()"
   ]
  },
  {
   "cell_type": "markdown",
   "metadata": {},
   "source": [
    "Finally, `understanding`."
   ]
  },
  {
   "cell_type": "code",
   "execution_count": 23,
   "metadata": {},
   "outputs": [
    {
     "data": {
      "image/png": "[encoded data removed]",
      "text/plain": [
       "<Figure size 432x288 with 1 Axes>"
      ]
     },
     "metadata": {
      "needs_background": "light"
     },
     "output_type": "display_data"
    }
   ],
   "source": [
    "labels = ['1', '2', '3', '4', '5', '6', '7']\n",
    "y_pos = [0, 1, 2, 3, 4, 5, 6]\n",
    "counts = [1, 0, 8, 11, 21, 27, 13]\n",
    "\n",
    "plt.bar(y_pos, counts, align='center', alpha=0.5)\n",
    "plt.xticks(y_pos, labels)\n",
    "plt.ylabel('Counts')\n",
    "plt.title(\"Non-Comp Sci Students Who Have Previous Coding Experience's Understanding of COMP110 Material\")\n",
    "\n",
    "plt.show()"
   ]
  },
  {
   "cell_type": "markdown",
   "metadata": {},
   "source": [
    "Comparing the graphs, it can be seen that non-computer science students who have some prior coding experience are generally finding the pace of the course to be slower, the material less difficult, and in general have a better understanding of the content. \n",
    "\n",
    "### Assessing COMP110 Resource Effectiveness\n",
    "\n",
    "We want to find a way to help students who have no prior coding experience \"catch up\" on material that other students may have more experience with in the past. One idea is to implement optional videos or tutoring sessions that cover the basics of python more in-depth, allowing students to master these basics before moving onto harder concepts.\n",
    "\n",
    "To assess whether these measures would be effective, we can analyze the effectiveness of tutoring (`tutoring_effective`), office hours (`oh_effective`) and lesson videos (`ls_effective`). These variables were assessed on a likert scale of 1-7, with 1 being not effective and 7 being very effective in learning course concepts.\n",
    "\n",
    "Specifically, we will look at non-computer science majors with none to less than a month of prior coding experience. First, we will use the `make_int` function to turn their columns of data into numerical values to allow for easier analysis. \n",
    "\n",
    "Using the `threshold` function, we can then select for those students who are finding the pace of the course to be fast (`pace >= 4`), the material difficult (`difficulty >= 4`), but their understanding to be pretty well (`understanding >= 4`). \n",
    "\n",
    "While these students are generally finding the course difficult, they also have a pretty good understanding of the material. We can see if resources such as tutoring, office hours, and lesson videos are effective in helping their understanding by how they rate them. \n",
    "\n",
    "We can use the `count_ints` function to determine how the majority of these students rate these resources in terms of their effectiveness in aiding their understanding."
   ]
  },
  {
   "cell_type": "code",
   "execution_count": 19,
   "metadata": {},
   "outputs": [
    {
     "name": "stdout",
     "output_type": "stream",
     "text": [
      "Office hours effectiveness: {7: 92, 6: 42, 5: 28, 4: 28, 3: 6, 1: 1, 2: 2}\n",
      "Video lesson effectiveness: {5: 50, 7: 93, 4: 22, 6: 67, 1: 3, 3: 15, 2: 4}\n",
      "Tutoring effectiveness: {6: 18, 7: 30, 5: 21, 4: 41, 1: 2, 2: 2, 3: 7}\n"
     ]
    }
   ],
   "source": [
    "from data_utils import make_int, threshold, count_ints\n",
    "\n",
    "no_experience_selected_2: dict[str, list[str]] = select(no_experience_cols, [\"pace\", \"difficulty\", \"understanding\", \"oh_effective\", \"tutoring_effective\", \"ls_effective\"])\n",
    "\n",
    "int_no_experience_selected_2: dict[str, list[int]] = make_int(no_experience_selected_2)\n",
    "\n",
    "threshold_int_no_experience_selected_2: dict[str, list[int]] = threshold(int_no_experience_selected_2, 4, [\"pace\", \"difficulty\", \"understanding\"])\n",
    "\n",
    "oh_effectiveness: dict[int, int] = count_ints(threshold_int_no_experience_selected_2[\"oh_effective\"])\n",
    "print(f\"Office hours effectiveness: {oh_effectiveness}\")\n",
    "\n",
    "ls_effectiveness: dict[int, int] = count_ints(threshold_int_no_experience_selected_2[\"ls_effective\"])\n",
    "print(f\"Video lesson effectiveness: {ls_effectiveness}\")\n",
    "\n",
    "tutoring_effectiveness: dict[int, int] = count_ints(threshold_int_no_experience_selected_2[\"tutoring_effective\"])\n",
    "print(f\"Tutoring effectiveness: {tutoring_effectiveness}\")"
   ]
  },
  {
   "cell_type": "markdown",
   "metadata": {},
   "source": [
    "We can then plot this data to visualize it's spread better, starting with `oh_effective`."
   ]
  },
  {
   "cell_type": "code",
   "execution_count": 20,
   "metadata": {},
   "outputs": [
    {
     "data": {
      "image/png": "[encoded data removed]",
      "text/plain": [
       "<Figure size 432x288 with 1 Axes>"
      ]
     },
     "metadata": {
      "needs_background": "light"
     },
     "output_type": "display_data"
    }
   ],
   "source": [
    "labels = ['1', '2', '3', '4', '5', '6', '7']\n",
    "y_pos = [0, 1, 2, 3, 4, 5, 6]\n",
    "counts = [1, 2, 6, 28, 28, 42, 92]\n",
    "\n",
    "plt.bar(y_pos, counts, align='center', alpha=0.5)\n",
    "plt.xticks(y_pos, labels)\n",
    "plt.ylabel('Counts')\n",
    "plt.title(\"Non-Comp Sci Students Who Are Struggling in COMP110's Rating of Office Hour Effectiveness\")\n",
    "\n",
    "plt.show()"
   ]
  },
  {
   "cell_type": "markdown",
   "metadata": {},
   "source": [
    "Next, `ls_effective`."
   ]
  },
  {
   "cell_type": "code",
   "execution_count": 21,
   "metadata": {},
   "outputs": [
    {
     "data": {
      "image/png": "[encoded data removed]",
      "text/plain": [
       "<Figure size 432x288 with 1 Axes>"
      ]
     },
     "metadata": {
      "needs_background": "light"
     },
     "output_type": "display_data"
    }
   ],
   "source": [
    "labels = ['1', '2', '3', '4', '5', '6', '7']\n",
    "y_pos = [0, 1, 2, 3, 4, 5, 6]\n",
    "counts = [3, 4, 15, 22, 50, 67, 93]\n",
    "\n",
    "plt.bar(y_pos, counts, align='center', alpha=0.5)\n",
    "plt.xticks(y_pos, labels)\n",
    "plt.ylabel('Counts')\n",
    "plt.title(\"Non-Comp Sci Students Who Are Struggling in COMP110's Rating of Video Lesson Effectiveness\")\n",
    "\n",
    "plt.show()"
   ]
  },
  {
   "cell_type": "markdown",
   "metadata": {},
   "source": [
    "Finally, `tutoring_effective`."
   ]
  },
  {
   "cell_type": "code",
   "execution_count": 22,
   "metadata": {},
   "outputs": [
    {
     "data": {
      "image/png": "[encoded data removed]",
      "text/plain": [
       "<Figure size 432x288 with 1 Axes>"
      ]
     },
     "metadata": {
      "needs_background": "light"
     },
     "output_type": "display_data"
    }
   ],
   "source": [
    "labels = ['1', '2', '3', '4', '5', '6', '7']\n",
    "y_pos = [0, 1, 2, 3, 4, 5, 6]\n",
    "counts = [2, 2, 7, 41, 21, 18, 30]\n",
    "\n",
    "plt.bar(y_pos, counts, align='center', alpha=0.5)\n",
    "plt.xticks(y_pos, labels)\n",
    "plt.ylabel('Counts')\n",
    "plt.title(\"Non-Comp Sci Students Who Are Struggling in COMP110's Rating of Tutoring Effectiveness\")\n",
    "\n",
    "plt.show()"
   ]
  },
  {
   "cell_type": "markdown",
   "metadata": {},
   "source": [
    "Thus, students who find the pace and difficulty of COMP110 to be quick and hard, but have a good understanding of the course material, generally rate office hours, lesson videos, and tutoring to be effective in learning the material.\n",
    "\n",
    "We can conclude that these resources are most helpful to the COMP110 population which is struggling the hardest in the class."
   ]
  },
  {
   "cell_type": "markdown",
   "metadata": {},
   "source": [
    "## Conclusion\n",
    "\n",
    "In the following markdown cell, write a reflective conclusion given the analysis you performed and identify recommendations.\n",
    "\n",
    "If your analysis of the data supports your idea, state your recommendation for the change and summarize the data analysys results you found which support it. Additionally, describe any extensions or refinements to this idea which might be explored further. Finally, discuss the potential costs, trade-offs, or stakeholders who may be negatively impacted by this proposed change.\n",
    "\n",
    "If your analysis of the data is inconclusive, summarize why your data analysis results were inconclusive in the support of your idea. Additionally, describe what experimental idea implementation or additional data collection might help build more confidence in assessing your idea. Finally, discuss the potential costs, trade-offs, or stakeholders who may be negatively impacted by experimenting with your idea.\n",
    "\n",
    "Finally, if your analysis of the data does not support it, summarize your data analysis results and why it refutes your idea. Discuss the potential costs, trade-offs, or stakeholders who may be negatively impacted by this proposed change. If you disagree with the validity of the findings, describe why your idea still makes sense to implement and what alternative data would better support it. If you agree with the validity of the data analysis, describe what alternate ideas or extensions you would explore instead. "
   ]
  },
  {
   "cell_type": "markdown",
   "metadata": {},
   "source": [
    "### Part 5. Conclusion\n",
    "\n",
    "The aim of this analysis was to assess non-computer science students' general view of COMP110 difficulty, and more specifically, those students who have little to no prior coding experience. It was hypothesized that these students would be struggling in the course the most, as they have no background knowledge to build off of, and are taking the course to fulfill a major requirement or for another reason. Further analysis would reveal if supplemental or optional review sessions or lesson videos would be helpful to this group in particular, as they could potentially build a stronger base of knowledge that some of their other peers may already have.\n",
    "\n",
    "In the first section of the analysis, it was found that non-computer science majors with little to no coding experience (none to less than one month) generally found the pace of COMP110 to be very fast, the difficulty to be very hard, and their understanding of the material to be generally poor in comparison to those with some coding experience (2 months or more). \n",
    "\n",
    "In the second section of the analysis, the effectiveness of lesson videos, office hours, and tutoring in helping students learn course material was analyzed. Specifically, the analysis was performed on non-computer science students with no prior experience, who found the pace of the course to be generally fast (>= 4 out of a 7-point scale), the difficulty to be generally hard (>= 4 out of a 7-point scale), but their understanding of the course material to be fairly good (>=4 out of a 7-point scale). Although these students are finding the course hard in terms of pace and difficulty, they are still managing to understand COMP110 concepts. An analysis was performed on these students' ratings of lesson videos, office hours, and tutoring effectiveness, which found that video lessons were most effecitve, followed by office hours, and then tutoring. These students may be getting the most out of video lessons, and thus the idea of implementing supplemental python review lessons for beginners has merit. \n",
    "\n",
    "One refinement of this analysis was that a specific subgroup of people was analyzed; meaning that, the entire COMP110 population may be rating office hours, lesson videos, and tutoring high. To further validate our conclusions, we could compare these results with computer science major's ratings of resource effectiveness. We could also look at non-computer science majors who rate their understanding to be poor's view of the effectiveness of these resources.\n",
    "\n",
    "Course staff may be negatively impacted by this implementation, as more materials, review sessions, and other resources would need to be produced, focusing specifically on python basics. Thus, less time can be spent preparing lesson plans and taking care of other course work. However, students would benefit greatly and their understanding would improve. \n",
    "\n"
   ]
  }
 ],
 "metadata": {
  "interpreter": {
   "hash": "aee8b7b246df8f9039afb4144a1f6fd8d2ca17a180786b69acc140d282b71a49"
  },
  "kernelspec": {
   "display_name": "Python 3.10.2 64-bit",
   "language": "python",
   "name": "python3"
  },
  "language_info": {
   "codemirror_mode": {
    "name": "ipython",
    "version": 3
   },
   "file_extension": ".py",
   "mimetype": "text/x-python",
   "name": "python",
   "nbconvert_exporter": "python",
   "pygments_lexer": "ipython3",
   "version": "3.10.1"
  },
  "orig_nbformat": 4
 },
 "nbformat": 4,
 "nbformat_minor": 2
}
